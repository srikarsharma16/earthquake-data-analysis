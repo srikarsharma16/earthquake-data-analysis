{
 "cells": [
  {
   "cell_type": "markdown",
   "metadata": {},
   "source": [
    "# Author: Srikar Kalle  \n",
    "\n",
    "**Student ID: C00313529**\n",
    "\n",
    "**Date: December 13, 2024**\n",
    "\n",
    "**Project: Earthquake Insights Analysis**"
   ]
  },
  {
   "cell_type": "code",
   "execution_count": 1,
   "id": "373a5a64-f086-4af1-a40c-f811b398dbf4",
   "metadata": {},
   "outputs": [],
   "source": [
    "import pandas as pd"
   ]
  },
  {
   "cell_type": "code",
   "execution_count": 2,
   "id": "c0f435dc-d70e-4e0b-be7d-a163f891c14e",
   "metadata": {},
   "outputs": [],
   "source": [
    "URL = \"https://earthquake.usgs.gov/earthquakes/feed/v1.0/summary/all_month.csv\""
   ]
  },
  {
   "cell_type": "code",
   "execution_count": 3,
   "id": "9d4361e4-9e6a-4bed-be87-9689d27a0a27",
   "metadata": {},
   "outputs": [],
   "source": [
    "df = pd.read_csv(URL)"
   ]
  },
  {
   "cell_type": "code",
   "execution_count": 4,
   "id": "5811942e-ad27-4711-8a96-86c82144db6d",
   "metadata": {},
   "outputs": [
    {
     "name": "stdout",
     "output_type": "stream",
     "text": [
      "                       time   latitude   longitude  depth   mag magType   nst  \\\n",
      "0  2024-12-30T18:44:42.850Z  33.218334 -116.371834   2.64  1.23      ml  12.0   \n",
      "1  2024-12-30T18:44:26.550Z  33.458500 -116.476667  11.66  0.82      ml  16.0   \n",
      "2  2024-12-30T18:41:02.595Z  64.704400 -149.676400   0.00  1.70      ml   NaN   \n",
      "3  2024-12-30T18:31:44.143Z  39.403400 -119.933700   2.00  1.00      ml   8.0   \n",
      "4  2024-12-30T18:17:32.520Z  35.992001 -120.549667   3.89  1.66      md  13.0   \n",
      "\n",
      "      gap     dmin     rms  ...                   updated  \\\n",
      "0  135.00  0.20710  0.3800  ...  2024-12-30T18:46:45.271Z   \n",
      "1   64.00  0.11100  0.1400  ...  2024-12-30T18:49:53.680Z   \n",
      "2     NaN      NaN  1.0000  ...  2024-12-30T18:43:21.457Z   \n",
      "3  119.88  0.10700  0.1914  ...  2024-12-30T18:33:38.776Z   \n",
      "4  101.00  0.02035  0.0400  ...  2024-12-30T18:37:18.008Z   \n",
      "\n",
      "                                 place        type horizontalError depthError  \\\n",
      "0        4 km S of Borrego Springs, CA  earthquake            1.17      23.41   \n",
      "1                21 km ESE of Anza, CA  earthquake            0.27       0.67   \n",
      "2  28 km WNW of Four Mile Road, Alaska  earthquake             NaN       0.60   \n",
      "3      7 km E of Floriston, California  earthquake             NaN       0.90   \n",
      "4            15 km NW of Parkfield, CA  earthquake            0.27       0.43   \n",
      "\n",
      "   magError  magNst     status  locationSource magSource  \n",
      "0     0.310    11.0  automatic              ci        ci  \n",
      "1     0.145    24.0  automatic              ci        ci  \n",
      "2       NaN     NaN  automatic              ak        ak  \n",
      "3     0.360     3.0  automatic              nn        nn  \n",
      "4     0.230    10.0  automatic              nc        nc  \n",
      "\n",
      "[5 rows x 22 columns]\n",
      "<class 'pandas.core.frame.DataFrame'>\n",
      "RangeIndex: 10157 entries, 0 to 10156\n",
      "Data columns (total 22 columns):\n",
      " #   Column           Non-Null Count  Dtype  \n",
      "---  ------           --------------  -----  \n",
      " 0   time             10157 non-null  object \n",
      " 1   latitude         10157 non-null  float64\n",
      " 2   longitude        10157 non-null  float64\n",
      " 3   depth            10157 non-null  float64\n",
      " 4   mag              10157 non-null  float64\n",
      " 5   magType          10157 non-null  object \n",
      " 6   nst              8494 non-null   float64\n",
      " 7   gap              8493 non-null   float64\n",
      " 8   dmin             8469 non-null   float64\n",
      " 9   rms              10156 non-null  float64\n",
      " 10  net              10157 non-null  object \n",
      " 11  id               10157 non-null  object \n",
      " 12  updated          10157 non-null  object \n",
      " 13  place            10157 non-null  object \n",
      " 14  type             10157 non-null  object \n",
      " 15  horizontalError  7391 non-null   float64\n",
      " 16  depthError       10157 non-null  float64\n",
      " 17  magError         8434 non-null   float64\n",
      " 18  magNst           8489 non-null   float64\n",
      " 19  status           10157 non-null  object \n",
      " 20  locationSource   10157 non-null  object \n",
      " 21  magSource        10157 non-null  object \n",
      "dtypes: float64(12), object(10)\n",
      "memory usage: 1.7+ MB\n",
      "None\n",
      "           latitude     longitude         depth           mag          nst  \\\n",
      "count  10157.000000  10157.000000  10157.000000  10157.000000  8494.000000   \n",
      "mean      40.061449   -117.953027     19.113962      1.605218    23.084648   \n",
      "std       17.270585     57.670616     45.880932      1.228467    21.781717   \n",
      "min      -62.109200   -179.949500     -3.500000     -1.940000     0.000000   \n",
      "25%       33.873500   -151.681100      2.570000      0.870000     9.000000   \n",
      "50%       38.840500   -122.757668      7.543900      1.480000    16.000000   \n",
      "75%       51.702833   -116.195800     14.400000      2.100000    29.000000   \n",
      "max       86.605300    179.877000    625.963000      7.300000   352.000000   \n",
      "\n",
      "               gap         dmin           rms  horizontalError    depthError  \\\n",
      "count  8493.000000  8469.000000  10156.000000      7391.000000  10157.000000   \n",
      "mean    124.085802     0.389714      0.254009         1.673352      2.533484   \n",
      "std      72.515076     1.525164      0.258030         2.990850      7.301498   \n",
      "min      14.000000     0.000000      0.000000         0.000000      0.000000   \n",
      "25%      69.000000     0.016710      0.100000         0.270000      0.490000   \n",
      "50%     105.000000     0.062500      0.160000         0.460000      0.830000   \n",
      "75%     162.000000     0.155500      0.310000         1.040000      1.840000   \n",
      "max     358.000000    28.227000      2.320000        24.870000    322.400000   \n",
      "\n",
      "          magError       magNst  \n",
      "count  8434.000000  8489.000000  \n",
      "mean      0.195718    15.856402  \n",
      "std       0.128933    22.893594  \n",
      "min       0.000000     0.000000  \n",
      "25%       0.115000     6.000000  \n",
      "50%       0.174000    10.000000  \n",
      "75%       0.240000    19.000000  \n",
      "max       1.990000   433.000000  \n"
     ]
    }
   ],
   "source": [
    "print(df.head())\n",
    "print(df.info())\n",
    "print(df.describe())"
   ]
  },
  {
   "cell_type": "markdown",
   "id": "1e0a80dd-f46b-4e26-b3b0-18d75cc3ec72",
   "metadata": {},
   "source": [
    "# Drop unnecessary columns"
   ]
  },
  {
   "cell_type": "code",
   "execution_count": 5,
   "id": "e788a8b6-effd-438a-9923-b8c874bc4f01",
   "metadata": {},
   "outputs": [
    {
     "name": "stdout",
     "output_type": "stream",
     "text": [
      "Index(['time', 'latitude', 'longitude', 'depth', 'mag', 'magType', 'nst',\n",
      "       'gap', 'dmin', 'rms', 'net', 'id', 'updated', 'place', 'type',\n",
      "       'horizontalError', 'depthError', 'magError', 'magNst', 'status',\n",
      "       'locationSource', 'magSource'],\n",
      "      dtype='object')\n"
     ]
    }
   ],
   "source": [
    "print(df.columns)"
   ]
  },
  {
   "cell_type": "code",
   "execution_count": 6,
   "id": "1b5f858d-a705-4c1a-8ab2-9baff2209dc7",
   "metadata": {},
   "outputs": [],
   "source": [
    "droppedColumns = ['net', 'nst', 'gap', 'dmin', 'rms']"
   ]
  },
  {
   "cell_type": "code",
   "execution_count": 7,
   "id": "1c4bfef2-302c-4e5a-9df0-aed5423ff9e6",
   "metadata": {},
   "outputs": [],
   "source": [
    "df.drop(columns=droppedColumns, inplace=True)"
   ]
  },
  {
   "cell_type": "code",
   "execution_count": 8,
   "id": "2e7d651d-be64-41c8-b466-58732c40d4b2",
   "metadata": {},
   "outputs": [
    {
     "name": "stdout",
     "output_type": "stream",
     "text": [
      "Columns after dropping : Index(['time', 'latitude', 'longitude', 'depth', 'mag', 'magType', 'id',\n",
      "       'updated', 'place', 'type', 'horizontalError', 'depthError', 'magError',\n",
      "       'magNst', 'status', 'locationSource', 'magSource'],\n",
      "      dtype='object')\n"
     ]
    }
   ],
   "source": [
    "print(\"Columns after dropping :\", df.columns)"
   ]
  },
  {
   "cell_type": "markdown",
   "id": "c0c98de1-5b65-4305-9b89-07c19590a650",
   "metadata": {},
   "source": [
    "# Handling missing values"
   ]
  },
  {
   "cell_type": "code",
   "execution_count": 9,
   "id": "c5429918-ac63-4f01-bdcb-699794b1757b",
   "metadata": {},
   "outputs": [],
   "source": [
    "df.fillna({\n",
    "    'mag': df['mag'].mean(),\n",
    "    'depth': df['depth'].mean(),\n",
    "    'place': 'Unknown',\n",
    "    'magType': 'Unknown'\n",
    "}, inplace=True)"
   ]
  },
  {
   "cell_type": "markdown",
   "id": "a3689010-98c7-4816-8ed6-4486e1b95f16",
   "metadata": {},
   "source": [
    "# Converting columns to appropriate data types"
   ]
  },
  {
   "cell_type": "code",
   "execution_count": 10,
   "id": "9d3d3474-5efe-47af-8ea2-e4c36905d86a",
   "metadata": {},
   "outputs": [],
   "source": [
    "df['time'] = pd.to_datetime(df['time'])\n",
    "df['updated'] = pd.to_datetime(df['updated'])"
   ]
  },
  {
   "cell_type": "markdown",
   "id": "ed70343b-0e01-4234-ac68-bfed4fe187ef",
   "metadata": {},
   "source": [
    "# Saving cleaned data"
   ]
  },
  {
   "cell_type": "code",
   "execution_count": 11,
   "id": "a1d4369e-24e7-4bc3-a492-711823beb77c",
   "metadata": {},
   "outputs": [],
   "source": [
    "df.to_csv('quakes-cleaned.csv', index=False)"
   ]
  },
  {
   "cell_type": "code",
   "execution_count": 12,
   "id": "f5da8802-d694-4268-b30d-2695b5a5e791",
   "metadata": {},
   "outputs": [
    {
     "name": "stdout",
     "output_type": "stream",
     "text": [
      "<class 'pandas.core.frame.DataFrame'>\n",
      "RangeIndex: 10157 entries, 0 to 10156\n",
      "Data columns (total 17 columns):\n",
      " #   Column           Non-Null Count  Dtype              \n",
      "---  ------           --------------  -----              \n",
      " 0   time             10157 non-null  datetime64[ns, UTC]\n",
      " 1   latitude         10157 non-null  float64            \n",
      " 2   longitude        10157 non-null  float64            \n",
      " 3   depth            10157 non-null  float64            \n",
      " 4   mag              10157 non-null  float64            \n",
      " 5   magType          10157 non-null  object             \n",
      " 6   id               10157 non-null  object             \n",
      " 7   updated          10157 non-null  datetime64[ns, UTC]\n",
      " 8   place            10157 non-null  object             \n",
      " 9   type             10157 non-null  object             \n",
      " 10  horizontalError  7391 non-null   float64            \n",
      " 11  depthError       10157 non-null  float64            \n",
      " 12  magError         8434 non-null   float64            \n",
      " 13  magNst           8489 non-null   float64            \n",
      " 14  status           10157 non-null  object             \n",
      " 15  locationSource   10157 non-null  object             \n",
      " 16  magSource        10157 non-null  object             \n",
      "dtypes: datetime64[ns, UTC](2), float64(8), object(7)\n",
      "memory usage: 1.3+ MB\n",
      "None\n"
     ]
    }
   ],
   "source": [
    "print(df.info())"
   ]
  }
 ],
 "metadata": {
  "kernelspec": {
   "display_name": "Python 3",
   "language": "python",
   "name": "python3"
  },
  "language_info": {
   "codemirror_mode": {
    "name": "ipython",
    "version": 3
   },
   "file_extension": ".py",
   "mimetype": "text/x-python",
   "name": "python",
   "nbconvert_exporter": "python",
   "pygments_lexer": "ipython3",
   "version": "3.12.6"
  }
 },
 "nbformat": 4,
 "nbformat_minor": 5
}
